{
 "cells": [
  {
   "cell_type": "markdown",
   "metadata": {},
   "source": [
    "# Example how to use bslib for SPI calculation"
   ]
  },
  {
   "cell_type": "code",
   "execution_count": 1,
   "metadata": {},
   "outputs": [],
   "source": [
    "from openbatlib import controller\n",
    "from openbatlib import model\n",
    "import numpy as np"
   ]
  },
  {
   "cell_type": "markdown",
   "metadata": {},
   "source": [
    "## Choose system and start simulation"
   ]
  },
  {
   "cell_type": "code",
   "execution_count": 5,
   "metadata": {},
   "outputs": [],
   "source": [
    "c = controller.Controller()\n",
    "c.sim(system=\"H\", ref_case=\"2\", dt=1)"
   ]
  },
  {
   "cell_type": "markdown",
   "metadata": {},
   "source": [
    "## Show results"
   ]
  },
  {
   "cell_type": "code",
   "execution_count": 6,
   "metadata": {},
   "outputs": [
    {
     "name": "stdout",
     "output_type": "stream",
     "text": [
      "Name       MWh       \n",
      "El         9.3944    \n",
      "Epv        10.3806   \n",
      "Ebatin     2.5485    \n",
      "Ebatout    2.4687    \n",
      "Eac2g      4.8544    \n",
      "Eg2ac      4.5598    \n",
      "Eg2l       4.4519    \n",
      "Eperi      0.0312    \n",
      "Ect        0.1563    \n",
      "Epvs       10.1415   \n",
      "Eac2bs     2.7531    \n",
      "Ebs2ac     2.3005    \n",
      "Epvs2l     2.6692    \n",
      "Epvs2bs    2.6451    \n",
      "Eg2bs      0.1079    \n",
      "Epvs2g     4.8272    \n",
      "Ebs2l      2.2734    \n",
      "Ebs2g      0.0272    \n"
     ]
    }
   ],
   "source": [
    "c.print_E()"
   ]
  }
 ],
 "metadata": {
  "language_info": {
   "name": "python",
   "nbconvert_exporter": "python"
  },
  "orig_nbformat": 4
 },
 "nbformat": 4,
 "nbformat_minor": 2
}